{
 "cells": [
  {
   "cell_type": "code",
   "execution_count": 28,
   "metadata": {},
   "outputs": [],
   "source": [
    "import os\n",
    "import numpy as np\n",
    "import nibabel as nib\n",
    "import matplotlib.pyplot as plt\n",
    "import torch\n",
    "from tqdm import tqdm\n",
    "import json\n",
    "from sklearn.model_selection import GroupKFold\n",
    "import albumentations as A\n",
    "import cv2\n",
    "import pandas as pd\n",
    "from PIL import Image\n",
    "\n",
    "np.random.seed(42)"
   ]
  },
  {
   "cell_type": "markdown",
   "metadata": {},
   "source": [
    "# Format Data"
   ]
  },
  {
   "cell_type": "code",
   "execution_count": 2,
   "metadata": {},
   "outputs": [],
   "source": [
    "def permute(image):\n",
    "    image = torch.Tensor(image)\n",
    "    image = image.permute(2,0,1).numpy()\n",
    "    return image"
   ]
  },
  {
   "cell_type": "code",
   "execution_count": 3,
   "metadata": {},
   "outputs": [],
   "source": [
    "DATA_PATH = '../data/HMT_dataset/raw_data/train/'\n",
    "OUT_PATH = '../data/HMT_dataset/processed_data/'\n",
    "TABLE_PATH = '../data/split_tables/HMT/'\n",
    "os.makedirs(TABLE_PATH,exist_ok=True)\n",
    "\n",
    "labels = pd.read_csv('../data/HMT_dataset/raw_data/train_labels.csv')\n",
    "#labels = labels.fillna(0)"
   ]
  },
  {
   "cell_type": "code",
   "execution_count": 5,
   "metadata": {},
   "outputs": [],
   "source": [
    "patient_list = labels['id'].tolist()"
   ]
  },
  {
   "cell_type": "code",
   "execution_count": 18,
   "metadata": {},
   "outputs": [
    {
     "name": "stderr",
     "output_type": "stream",
     "text": [
      "100%|██████████| 220025/220025 [1:49:28<00:00, 33.50it/s]\n"
     ]
    }
   ],
   "source": [
    "for patient in tqdm(patient_list):\n",
    "    \n",
    "    image = Image.open(DATA_PATH+patient+'.tif') \n",
    "    image = np.array(image) \n",
    "    target = labels[labels['id']==patient]['label'].values[0]\n",
    "    \n",
    "\n",
    "    target = np.array(target)\n",
    "        \n",
    "    #save\n",
    "    np.save(OUT_PATH+f'/{patient}_label.npy',target)\n",
    "    np.save(OUT_PATH+f'/{patient}_image.npy',image)\n",
    "    \n",
    "    "
   ]
  },
  {
   "cell_type": "markdown",
   "metadata": {},
   "source": [
    "# Prepare split tables"
   ]
  },
  {
   "cell_type": "code",
   "execution_count": 31,
   "metadata": {},
   "outputs": [
    {
     "name": "stdout",
     "output_type": "stream",
     "text": [
      "Total number of patients: 220025\n"
     ]
    }
   ],
   "source": [
    "patient_list = [OUT_PATH[1:]+i for i in os.listdir(OUT_PATH) if i.find('_image.npy')!=-1]\n",
    "print(f'Total number of patients: {len(patient_list)}')\n",
    "\n",
    "patient_arr = np.array(patient_list)\n",
    "\n",
    "patient_arr = np.random.permutation(patient_arr)"
   ]
  },
  {
   "cell_type": "code",
   "execution_count": 33,
   "metadata": {},
   "outputs": [
    {
     "name": "stdout",
     "output_type": "stream",
     "text": [
      "Number of images, test subset: 44005\n"
     ]
    }
   ],
   "source": [
    "#create test\n",
    "kf = GroupKFold(n_splits=5)\n",
    "\n",
    "for (train,test) in kf.split(patient_arr,patient_arr,patient_arr):\n",
    "    \n",
    "    patient_test = patient_arr[test]\n",
    "    \n",
    "    \n",
    "    #create test\n",
    "    split = {\n",
    "            'test': patient_test.tolist(),\n",
    "        }\n",
    "    \n",
    "    with open(f'{TABLE_PATH}test_split_table.json', 'w') as outfile:\n",
    "            json.dump(split, outfile)\n",
    "    break\n",
    "\n",
    "\n",
    "\n",
    "print(f'Number of images, test subset: {patient_test.shape[0]}')\n",
    "\n",
    "patient_arr = patient_arr[train]"
   ]
  },
  {
   "cell_type": "code",
   "execution_count": 41,
   "metadata": {},
   "outputs": [
    {
     "name": "stdout",
     "output_type": "stream",
     "text": [
      "Number of images, val subset: 50\n",
      "Number of images, train subset: 50\n",
      "Number of images, pretain subset: 175970\n",
      "#######################################################\n",
      "Number of images, val subset: 50\n",
      "Number of images, train subset: 100\n",
      "Number of images, pretain subset: 175920\n",
      "#######################################################\n",
      "Number of images, val subset: 50\n",
      "Number of images, train subset: 201\n",
      "Number of images, pretain subset: 175819\n",
      "#######################################################\n"
     ]
    }
   ],
   "source": [
    "#create train and validation\n",
    "n_patients = [2,4,8]\n",
    "\n",
    "\n",
    "for i in n_patients:\n",
    "    \n",
    "    \n",
    "    patient_train = patient_arr[:int(patient_arr.shape[0]*(i/100/70))]\n",
    "    patient_val = patient_arr[-1*int(patient_arr.shape[0]*(0.02/70)):]\n",
    "    \n",
    "    patient_petrain = patient_arr.copy()\n",
    "    patient_petrain = np.setdiff1d(patient_petrain, patient_train)\n",
    "    \n",
    "    split = {\n",
    "            'train': patient_train.tolist(),\n",
    "            'val': patient_val.tolist(),\n",
    "            'pretrain': patient_petrain.tolist(),\n",
    "        }\n",
    "    \n",
    "    with open(f'{TABLE_PATH}{i}_split_table.json', 'w') as outfile:\n",
    "            json.dump(split, outfile)\n",
    "            \n",
    "    print(f'Number of images, val subset: {patient_val.shape[0]}')\n",
    "    print(f'Number of images, train subset: {patient_train.shape[0]}')\n",
    "    print(f'Number of images, pretain subset: {patient_petrain.shape[0]}')\n",
    "    print('#######################################################')\n",
    "\n",
    "\n",
    "    "
   ]
  },
  {
   "cell_type": "code",
   "execution_count": 36,
   "metadata": {},
   "outputs": [
    {
     "name": "stdout",
     "output_type": "stream",
     "text": [
      "Number of images, val subset: 35204\n",
      "Number of images, train subset: 140816\n",
      "#######################################################\n"
     ]
    }
   ],
   "source": [
    "#create UB\n",
    "\n",
    "patient_train = patient_arr[patient_arr.shape[0]//5:]\n",
    "patient_val = patient_arr[:patient_arr.shape[0]//5]\n",
    "\n",
    "\n",
    "split = {\n",
    "        'train': patient_train.tolist(),\n",
    "        'val': patient_val.tolist(),\n",
    "    }\n",
    "\n",
    "with open(f'UB_split_table.json', 'w') as outfile:\n",
    "        json.dump(split, outfile)\n",
    "\n",
    "print(f'Number of images, val subset: {patient_val.shape[0]}')\n",
    "print(f'Number of images, train subset: {patient_train.shape[0]}')\n",
    "print('#######################################################')"
   ]
  },
  {
   "cell_type": "markdown",
   "metadata": {},
   "source": [
    "# Review augs"
   ]
  },
  {
   "cell_type": "code",
   "execution_count": null,
   "metadata": {},
   "outputs": [],
   "source": [
    "prob = 1\n",
    "augs = A.Compose(\n",
    "                [ \n",
    "                    A.HorizontalFlip(p=prob),\n",
    "                    A.VerticalFlip(p=prob),\n",
    "                    A.Rotate(limit=170, p=prob),\n",
    "                    A.ElasticTransform(alpha=0.1,p=prob),\n",
    "                    A.RandomSizedCrop(min_max_height=(120, 120), height=300, width=300, p=prob),\n",
    "                    A.RandomGamma(gamma_limit=(80, 120), p=prob)\n",
    "                ]\n",
    "            )\n",
    "temp = np.transpose(temp.astype(np.float32), (1, 2, 0))\n",
    "augmented = augs(image=temp)\n",
    "temp = np.transpose(temp.astype(np.float32), (2, 0, 1))\n",
    "image = augmented['image']\n",
    "image = np.transpose(image.astype(np.float32), (2, 0, 1))\n",
    "\n",
    "plt.imshow(temp[0],'gray')"
   ]
  },
  {
   "cell_type": "code",
   "execution_count": null,
   "metadata": {},
   "outputs": [],
   "source": [
    "plt.imshow(image[0],'gray')"
   ]
  },
  {
   "cell_type": "code",
   "execution_count": null,
   "metadata": {},
   "outputs": [],
   "source": [
    "import numpy as np\n",
    "import cv2\n",
    "\n",
    "def rotate_image(image, angle):\n",
    "    image = np.transpose(image.astype(np.float32), (1, 2, 0))\n",
    "    image_center = tuple(np.array(image.shape[1::-1]) / 2)\n",
    "    rot_mat = cv2.getRotationMatrix2D(image_center, angle, 1.0)\n",
    "    result = cv2.warpAffine(image, rot_mat, image.shape[1::-1], flags=cv2.INTER_LINEAR)\n",
    "    result = np.transpose(result.astype(np.float32), (2, 0, 1))\n",
    "    return result"
   ]
  },
  {
   "cell_type": "code",
   "execution_count": null,
   "metadata": {},
   "outputs": [],
   "source": [
    "y = rotate_image(image,90)\n",
    "plt.imshow(y[2],'gray')"
   ]
  },
  {
   "cell_type": "code",
   "execution_count": null,
   "metadata": {},
   "outputs": [],
   "source": []
  }
 ],
 "metadata": {
  "kernelspec": {
   "display_name": "Python 3",
   "language": "python",
   "name": "python3"
  },
  "language_info": {
   "codemirror_mode": {
    "name": "ipython",
    "version": 3
   },
   "file_extension": ".py",
   "mimetype": "text/x-python",
   "name": "python",
   "nbconvert_exporter": "python",
   "pygments_lexer": "ipython3",
   "version": "3.7.9"
  }
 },
 "nbformat": 4,
 "nbformat_minor": 4
}
