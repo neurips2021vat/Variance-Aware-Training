{
 "cells": [
  {
   "cell_type": "code",
   "execution_count": 5,
   "metadata": {},
   "outputs": [],
   "source": [
    "import os\n",
    "import numpy as np\n",
    "import nibabel as nib\n",
    "import matplotlib.pyplot as plt\n",
    "import torch\n",
    "from tqdm import tqdm\n",
    "import json\n",
    "from sklearn.model_selection import GroupKFold"
   ]
  },
  {
   "cell_type": "markdown",
   "metadata": {},
   "source": [
    "# Format Data"
   ]
  },
  {
   "cell_type": "code",
   "execution_count": 6,
   "metadata": {},
   "outputs": [],
   "source": [
    "def permute(image):\n",
    "    image = torch.Tensor(image)\n",
    "    image = image.permute(3,0,1,2).numpy()\n",
    "    return image"
   ]
  },
  {
   "cell_type": "code",
   "execution_count": 46,
   "metadata": {},
   "outputs": [],
   "source": [
    "DATA_PATH = '../data/brats_dataset/raw_data/'\n",
    "OUT_PATH = '../data/brats_dataset/processed_data_2d/'\n",
    "TABLE_PATH = '../data/split_tables/brats_2d/'\n",
    "os.makedirs(TABLE_PATH,exist_ok=True)"
   ]
  },
  {
   "cell_type": "code",
   "execution_count": 47,
   "metadata": {},
   "outputs": [],
   "source": [
    "patient_list = [i for i in os.listdir(DATA_PATH) if i.find('g_')!=-1]\n",
    "n_slices_width = 128"
   ]
  },
  {
   "cell_type": "code",
   "execution_count": null,
   "metadata": {},
   "outputs": [
    {
     "name": "stderr",
     "output_type": "stream",
     "text": [
      " 93%|█████████▎| 342/369 [22:45<01:42,  3.78s/it]"
     ]
    }
   ],
   "source": [
    "for patient in tqdm(patient_list):\n",
    "    img_flair = np.array(nib.load(DATA_PATH+patient+'/'+patient+'_flair.nii.gz').dataobj)\n",
    "    img_t1 = np.array(nib.load(DATA_PATH+patient+'/'+patient+'_t1.nii.gz').dataobj)\n",
    "    img_t1ce = np.array(nib.load(DATA_PATH+patient+'/'+patient+'_t1ce.nii.gz').dataobj)\n",
    "    img_t2 = np.array(nib.load(DATA_PATH+patient+'/'+patient+'_t2.nii.gz').dataobj)\n",
    "    seg = np.array(nib.load(DATA_PATH+patient+'/'+patient+'_seg.nii.gz').dataobj)\n",
    "    \n",
    "    img = np.stack([img_flair,img_t1,img_t1ce,img_t2],axis=0)\n",
    "    \n",
    "    seg = seg.reshape(1,seg.shape[0],seg.shape[1],seg.shape[2])\n",
    "    seg[seg==4] = 3\n",
    "\n",
    "    os.makedirs(OUT_PATH+patient,exist_ok=True)\n",
    "    \n",
    " \n",
    "    \n",
    "    for i in range(img.shape[-1]):\n",
    "        temp = img[:,:,:,i]\n",
    "        temp_y = seg[:,:,:,i]\n",
    "\n",
    "        \n",
    "        #save\n",
    "        np.save(OUT_PATH+patient+f'/{i}_voxels.npy',temp)\n",
    "        np.save(OUT_PATH+patient+f'/{i}_labels.npy',temp_y)\n",
    "    \n"
   ]
  },
  {
   "cell_type": "markdown",
   "metadata": {},
   "source": [
    "# Prepare split tables"
   ]
  },
  {
   "cell_type": "code",
   "execution_count": 40,
   "metadata": {},
   "outputs": [
    {
     "name": "stdout",
     "output_type": "stream",
     "text": [
      "Total number of patients: 22\n"
     ]
    }
   ],
   "source": [
    "patient_list = [OUT_PATH[1:]+i for i in os.listdir(OUT_PATH) if i.find('.')==-1]\n",
    "print(f'Total number of patients: {len(patient_list)}')"
   ]
  },
  {
   "cell_type": "code",
   "execution_count": 41,
   "metadata": {},
   "outputs": [],
   "source": [
    "patient_arr = []\n",
    "records = []\n",
    "for patient in patient_list:\n",
    "    records += [patient+'/'+i for i in os.listdir('.'+patient) if i.find('voxels')!=-1]\n",
    "    patient_arr += [patient]*len([patient+'/'+i for i in os.listdir('.'+patient) if i.find('voxels')!=-1])\n",
    "    \n",
    "records = np.array(records)\n",
    "patient_arr = np.array(patient_arr)"
   ]
  },
  {
   "cell_type": "code",
   "execution_count": 42,
   "metadata": {},
   "outputs": [],
   "source": [
    "#create test\n",
    "kf = GroupKFold(n_splits=2)\n",
    "\n",
    "for (train,test) in kf.split(records,records,patient_arr):\n",
    "    \n",
    "    records_test = records[test]\n",
    "    \n",
    "    \n",
    "    #create test\n",
    "    split = {\n",
    "            'test': records_test.tolist(),\n",
    "        }\n",
    "    \n",
    "    with open(f'{TABLE_PATH}test_split_table.json', 'w') as outfile:\n",
    "            json.dump(split, outfile)\n",
    "    break\n",
    "\n",
    "patient_arr = patient_arr[train]\n",
    "records = records[train]"
   ]
  },
  {
   "cell_type": "code",
   "execution_count": 43,
   "metadata": {},
   "outputs": [],
   "source": [
    "#create train and validation\n",
    "kf = GroupKFold(n_splits=2)\n",
    "\n",
    "for (train,test) in kf.split(records,records,patient_arr):\n",
    "    \n",
    "    records_test = records[test]\n",
    "    \n",
    "    \n",
    "    #create test\n",
    "    split = {\n",
    "            'test': records_test.tolist(),\n",
    "        }\n",
    "    \n",
    "    with open(f'{TABLE_PATH}test_split_table.json', 'w') as outfile:\n",
    "            json.dump(split, outfile)\n",
    "    break\n",
    "\n",
    "patient_arr = patient_arr[train]\n",
    "records = records[train]"
   ]
  },
  {
   "cell_type": "code",
   "execution_count": 44,
   "metadata": {},
   "outputs": [],
   "source": [
    "#create train and validation\n",
    "n_patients = [1,2,4,8]\n",
    "\n",
    "patients_unique = np.unique(patient_arr)\n",
    "\n",
    "for i in n_patients:\n",
    "    \n",
    "    train_patients = patients_unique[:i]\n",
    "    train_records = np.empty(0)\n",
    "    for patient in train_patients.tolist():\n",
    "        train_records = np.append(train_records,records[patient_arr==patient],axis=0)\n",
    "    \n",
    "    val_patients = patients_unique[-2:]\n",
    "    val_records = np.empty(0)\n",
    "    for patient in val_patients.tolist():\n",
    "        val_records = np.append(val_records,records[patient_arr==patient],axis=0)\n",
    "    \n",
    "    \n",
    "    \n",
    "    split = {\n",
    "            'train': train_records.tolist(),\n",
    "            'val': val_records.tolist(),\n",
    "            'pretrain': records.tolist(),\n",
    "        }\n",
    "    with open(f'{TABLE_PATH}{i}_split_table.json', 'w') as outfile:\n",
    "            json.dump(split, outfile)\n"
   ]
  },
  {
   "cell_type": "code",
   "execution_count": 45,
   "metadata": {},
   "outputs": [],
   "source": [
    "#create UB\n",
    "\n",
    "train_patients = patients_unique[:patients_unique.shape[0]//2]\n",
    "train_records = np.empty(0)\n",
    "for patient in train_patients.tolist():\n",
    "    train_records = np.append(train_records,records[patient_arr==patient],axis=0)\n",
    "\n",
    "val_patients = patients_unique[patients_unique.shape[0]//2:]\n",
    "val_records = np.empty(0)\n",
    "for patient in val_patients.tolist():\n",
    "    val_records = np.append(val_records,records[patient_arr==patient],axis=0)\n",
    "\n",
    "split = {\n",
    "        'train': train_records.tolist(),\n",
    "        'val': val_records.tolist(),\n",
    "        }\n",
    "with open(f'{TABLE_PATH}UB_split_table.json', 'w') as outfile:\n",
    "            json.dump(split, outfile)\n"
   ]
  },
  {
   "cell_type": "code",
   "execution_count": null,
   "metadata": {},
   "outputs": [],
   "source": []
  }
 ],
 "metadata": {
  "kernelspec": {
   "display_name": "Python 3",
   "language": "python",
   "name": "python3"
  },
  "language_info": {
   "codemirror_mode": {
    "name": "ipython",
    "version": 3
   },
   "file_extension": ".py",
   "mimetype": "text/x-python",
   "name": "python",
   "nbconvert_exporter": "python",
   "pygments_lexer": "ipython3",
   "version": "3.7.9"
  }
 },
 "nbformat": 4,
 "nbformat_minor": 4
}
