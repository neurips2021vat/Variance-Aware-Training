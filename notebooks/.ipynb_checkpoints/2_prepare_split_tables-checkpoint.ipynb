{
 "cells": [
  {
   "cell_type": "code",
   "execution_count": 1,
   "metadata": {},
   "outputs": [],
   "source": [
    "import pandas as pd\n",
    "import numpy as np\n",
    "import os\n",
    "import matplotlib.pyplot as plt\n",
    "from tqdm import tqdm\n",
    "import json\n",
    "from sklearn.model_selection import KFold,StratifiedKFold,GroupKFold\n",
    "import seaborn as sns"
   ]
  },
  {
   "cell_type": "markdown",
   "metadata": {},
   "source": [
    "# Get list of records"
   ]
  },
  {
   "cell_type": "code",
   "execution_count": 2,
   "metadata": {},
   "outputs": [
    {
     "data": {
      "text/plain": [
       "194"
      ]
     },
     "execution_count": 2,
     "metadata": {},
     "output_type": "execute_result"
    }
   ],
   "source": [
    "DATA_PATH = '../data/SickKids_data/processed_data/'\n",
    "OUT_PATH = '../data/split_tables/'\n",
    "\n",
    "patients = [i for i in os.listdir(DATA_PATH) if i.find('.')==-1]\n",
    "\n",
    "len(patients)"
   ]
  },
  {
   "cell_type": "markdown",
   "metadata": {},
   "source": [
    "# Get all records"
   ]
  },
  {
   "cell_type": "code",
   "execution_count": 7,
   "metadata": {},
   "outputs": [
    {
     "name": "stderr",
     "output_type": "stream",
     "text": [
      "100%|██████████| 194/194 [00:48<00:00,  4.01it/s] \n"
     ]
    }
   ],
   "source": [
    "records = []\n",
    "record_patient = []\n",
    "\n",
    "for patient in tqdm(patients):\n",
    "    \n",
    "    temp = [patient+'/'+i for i in os.listdir(DATA_PATH+patient) if i.find('.npy')!=-1]\n",
    "    \n",
    "    records += temp\n",
    "    record_patient += [patient]*len(temp)\n",
    "    "
   ]
  },
  {
   "cell_type": "code",
   "execution_count": 8,
   "metadata": {},
   "outputs": [
    {
     "name": "stdout",
     "output_type": "stream",
     "text": [
      "Total number of records:  690540\n",
      "Total number of hours:  5754\n"
     ]
    }
   ],
   "source": [
    "print('Total number of records: ',len(records))\n",
    "print('Total number of hours: ',len(records)//120)"
   ]
  },
  {
   "cell_type": "code",
   "execution_count": null,
   "metadata": {},
   "outputs": [],
   "source": [
    "records = np.array(records)\n",
    "record_patient = np.array(record_patient)\n",
    "\n",
    "kf = GroupKFold(5)\n",
    "\n",
    "for fold,(train_index, test_index) in enumerate(kf.split(records,records,record_patient)):\n",
    "    records_train, records_test = records[train_index], records[test_index]\n",
    "    \n",
    "    split = {\n",
    "        'test': records_test.tolist(),\n",
    "    }\n",
    "    \n",
    "    with open(f'{OUT_PATH}test_split_table.json', 'w') as outfile:\n",
    "            json.dump(split, outfile)\n",
    "            \n",
    "    \n",
    "    break"
   ]
  },
  {
   "cell_type": "code",
   "execution_count": null,
   "metadata": {},
   "outputs": [],
   "source": [
    "records = records_train.tolist()\n",
    "record_patient = record_patient[train_index]"
   ]
  },
  {
   "cell_type": "code",
   "execution_count": null,
   "metadata": {},
   "outputs": [],
   "source": [
    "records = np.array(records)\n",
    "record_patient = np.array(record_patient)\n",
    "\n",
    "kf = GroupKFold(5)\n",
    "\n",
    "for fold,(train_index, test_index) in enumerate(kf.split(records,records,record_patient)):\n",
    "    records_train, records_test = records[train_index], records[test_index]\n",
    "    \n",
    "    split = {\n",
    "        'train': records_train.tolist(),\n",
    "        'val': records_test.tolist(),\n",
    "    }\n",
    "    \n",
    "    with open(f'../data/split_tables/{fold}_split_table.json', 'w') as outfile:\n",
    "            json.dump(split, outfile)\n",
    "            \n"
   ]
  },
  {
   "cell_type": "code",
   "execution_count": null,
   "metadata": {},
   "outputs": [],
   "source": []
  }
 ],
 "metadata": {
  "kernelspec": {
   "display_name": "Python 3",
   "language": "python",
   "name": "python3"
  },
  "language_info": {
   "codemirror_mode": {
    "name": "ipython",
    "version": 3
   },
   "file_extension": ".py",
   "mimetype": "text/x-python",
   "name": "python",
   "nbconvert_exporter": "python",
   "pygments_lexer": "ipython3",
   "version": "3.7.9"
  }
 },
 "nbformat": 4,
 "nbformat_minor": 4
}
